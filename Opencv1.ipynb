{
 "cells": [
  {
   "cell_type": "markdown",
   "metadata": {},
   "source": [
    "## Reading the image"
   ]
  },
  {
   "cell_type": "code",
   "execution_count": 2,
   "metadata": {},
   "outputs": [],
   "source": [
    "import cv2\n",
    "image=cv2.imread(\"./images/input.jpg\")\n",
    "cv2.imshow(\"hello world\",image)\n",
    "cv2.waitKey()\n",
    "cv2.destroyAllWindows()"
   ]
  },
  {
   "cell_type": "code",
   "execution_count": 72,
   "metadata": {},
   "outputs": [
    {
     "name": "stdout",
     "output_type": "stream",
     "text": [
      "(415, 622, 3)\n"
     ]
    }
   ],
   "source": [
    "print(image.shape)"
   ]
  },
  {
   "cell_type": "code",
   "execution_count": 5,
   "metadata": {},
   "outputs": [
    {
     "data": {
      "text/plain": [
       "(622, 3)"
      ]
     },
     "execution_count": 5,
     "metadata": {},
     "output_type": "execute_result"
    }
   ],
   "source": [
    "image[0].shape"
   ]
  },
  {
   "cell_type": "code",
   "execution_count": 6,
   "metadata": {},
   "outputs": [
    {
     "data": {
      "text/plain": [
       "774390"
      ]
     },
     "execution_count": 6,
     "metadata": {},
     "output_type": "execute_result"
    }
   ],
   "source": [
    "image.size"
   ]
  },
  {
   "cell_type": "markdown",
   "metadata": {},
   "source": [
    "## Converting color image into Gray"
   ]
  },
  {
   "cell_type": "code",
   "execution_count": 7,
   "metadata": {},
   "outputs": [],
   "source": [
    "gray_image=cv2.cvtColor(image,cv2.COLOR_BGR2GRAY)\n",
    "cv2.imshow(\"Gray_image\",gray_image)\n",
    "cv2.waitKey()\n",
    "cv2.destroyAllWindows()"
   ]
  },
  {
   "cell_type": "code",
   "execution_count": 8,
   "metadata": {},
   "outputs": [],
   "source": [
    "gray_image=cv2.imread(\"./images/input.jpg\",0)\n",
    "cv2.imshow(\"Gray_image\",gray_image)\n",
    "cv2.waitKey()\n",
    "cv2.destroyAllWindows()"
   ]
  },
  {
   "cell_type": "code",
   "execution_count": 9,
   "metadata": {},
   "outputs": [
    {
     "data": {
      "text/plain": [
       "(415, 622)"
      ]
     },
     "execution_count": 9,
     "metadata": {},
     "output_type": "execute_result"
    }
   ],
   "source": [
    "gray_image.shape"
   ]
  },
  {
   "cell_type": "code",
   "execution_count": 10,
   "metadata": {},
   "outputs": [],
   "source": [
    "HSV_image=cv2.cvtColor(image,cv2.COLOR_BGR2HSV)\n",
    "cv2.imshow(\"HSV_IMAGE\",HSV_image)\n",
    "cv2.waitKey()\n",
    "cv2.destroyAllWindows()"
   ]
  },
  {
   "cell_type": "code",
   "execution_count": 11,
   "metadata": {},
   "outputs": [],
   "source": [
    "H,S,V=cv2.split(HSV_image)\n",
    "cv2.imshow(\"Hue\",H)\n",
    "cv2.imshow(\"Saturation\",S)\n",
    "cv2.imshow(\"Value\",V)\n",
    "cv2.waitKey()\n",
    "cv2.destroyAllWindows()"
   ]
  },
  {
   "cell_type": "code",
   "execution_count": 12,
   "metadata": {},
   "outputs": [
    {
     "name": "stdout",
     "output_type": "stream",
     "text": [
      "(415, 622)   (415, 622)\n"
     ]
    }
   ],
   "source": [
    "print(H.shape,\" \",V.shape)"
   ]
  },
  {
   "cell_type": "code",
   "execution_count": 13,
   "metadata": {},
   "outputs": [],
   "source": [
    "import numpy as np\n",
    "zeros=np.zeros(image.shape[:2],dtype=\"uint8\")"
   ]
  },
  {
   "cell_type": "code",
   "execution_count": 14,
   "metadata": {},
   "outputs": [],
   "source": [
    "B,G,R=cv2.split(image)\n",
    "cv2.imshow(\"Red\",cv2.merge([zeros,zeros,R]))\n",
    "cv2.waitKey()\n",
    "cv2.destroyAllWindows()\n",
    "cv2.imshow(\"Green\",cv2.merge([zeros,G,zeros]))\n",
    "cv2.waitKey()\n",
    "cv2.destroyAllWindows()\n",
    "cv2.imshow(\"Blue\",cv2.merge([B,zeros,zeros]))\n",
    "cv2.waitKey()\n",
    "cv2.destroyAllWindows()"
   ]
  },
  {
   "cell_type": "code",
   "execution_count": 15,
   "metadata": {},
   "outputs": [],
   "source": [
    "cv2.imshow(\"red\",R)\n",
    "cv2.waitKey()\n",
    "cv2.destroyAllWindows()"
   ]
  },
  {
   "cell_type": "code",
   "execution_count": 16,
   "metadata": {},
   "outputs": [],
   "source": [
    "import matplotlib.pyplot as plt\n",
    "image=cv2.imread(\"./images/input.jpg\")"
   ]
  },
  {
   "cell_type": "code",
   "execution_count": 17,
   "metadata": {},
   "outputs": [
    {
     "data": {
      "image/png": "[encoded data removed]",
      "text/plain": [
       "<Figure size 432x288 with 1 Axes>"
      ]
     },
     "metadata": {
      "needs_background": "light"
     },
     "output_type": "display_data"
    }
   ],
   "source": [
    "#histogram=cv2.calcHist([image],[0],None,[256],[0,256])\n",
    "plt.hist(image.ravel(),256,[0,256],color=\"red\");plt.show()"
   ]
  },
  {
   "cell_type": "code",
   "execution_count": 18,
   "metadata": {},
   "outputs": [
    {
     "data": {
      "image/png": "[encoded data removed]",
      "text/plain": [
       "<Figure size 432x288 with 1 Axes>"
      ]
     },
     "metadata": {
      "needs_background": "light"
     },
     "output_type": "display_data"
    }
   ],
   "source": [
    "histogram = cv2.calcHist([image], [0], None,[256], [0, 250])\n",
    "\n",
    "# We plot a histogram, ravel() flatens our image array \n",
    "plt.hist(image.ravel(), 256, [0, 256]); plt.show()"
   ]
  },
  {
   "cell_type": "code",
   "execution_count": 19,
   "metadata": {},
   "outputs": [
    {
     "data": {
      "text/plain": [
       "Text(6.800000000000004, 0.5, 'Number of total columns')"
      ]
     },
     "execution_count": 19,
     "metadata": {},
     "output_type": "execute_result"
    },
    {
     "data": {
      "image/png": "[encoded data removed]",
      "text/plain": [
       "<Figure size 432x288 with 1 Axes>"
      ]
     },
     "metadata": {
      "needs_background": "light"
     },
     "output_type": "display_data"
    }
   ],
   "source": [
    "color=('b','g','r')\n",
    "for i,col in enumerate(color):\n",
    "    histogram = cv2.calcHist([image], [i], None,[256], [0, 250])\n",
    "    plt.plot(histogram,color=col)\n",
    "    plt.xlim([0,256])\n",
    "    plt.tight_layout()\n",
    "plt.xlabel(\"Range of Color\")\n",
    "plt.ylabel(\"Number of total columns\")"
   ]
  },
  {
   "cell_type": "code",
   "execution_count": 39,
   "metadata": {},
   "outputs": [
    {
     "data": {
      "text/plain": [
       "(512, 512, 3)"
      ]
     },
     "execution_count": 39,
     "metadata": {},
     "output_type": "execute_result"
    }
   ],
   "source": [
    "image=np.zeros((512,512,3),np.uint8)\n",
    "image.shape"
   ]
  },
  {
   "cell_type": "code",
   "execution_count": 40,
   "metadata": {},
   "outputs": [],
   "source": [
    "import cv2\n",
    "cv2.imshow(\"image\",image)\n",
    "cv2.waitKey()\n",
    "cv2.destroyAllWindows()"
   ]
  },
  {
   "cell_type": "code",
   "execution_count": 32,
   "metadata": {},
   "outputs": [],
   "source": [
    "image1=np.zeros((512,512),np.uint8)\n",
    "cv2.imshow(\"image\",image1)\n",
    "cv2.waitKey()\n",
    "cv2.destroyAllWindows()"
   ]
  },
  {
   "cell_type": "code",
   "execution_count": null,
   "metadata": {},
   "outputs": [],
   "source": []
  },
  {
   "cell_type": "code",
   "execution_count": 25,
   "metadata": {},
   "outputs": [],
   "source": [
    "cv2.line(image,(0,0),(511,511),(50,127,127),2)\n",
    "cv2.imshow(\"image\",image)\n",
    "cv2.waitKey()\n",
    "cv2.destroyAllWindows()"
   ]
  },
  {
   "cell_type": "code",
   "execution_count": 37,
   "metadata": {},
   "outputs": [],
   "source": [
    "rectangle=cv2.rectangle(image,(100,100),(300,350),(50,50,50),5)\n",
    "cv2.imshow(\"image\",rectangle)\n",
    "cv2.waitKey()\n",
    "cv2.destroyAllWindows()"
   ]
  },
  {
   "cell_type": "code",
   "execution_count": 44,
   "metadata": {},
   "outputs": [],
   "source": [
    "cv2.circle(image,(int(image.shape[0]/2),int(image.shape[0]/2)),100,(15,20,127),3)\n",
    "cv2.imshow(\"image\",image)\n",
    "cv2.waitKey()\n",
    "cv2.destroyAllWindows()"
   ]
  },
  {
   "cell_type": "code",
   "execution_count": 52,
   "metadata": {},
   "outputs": [],
   "source": [
    "image=np.zeros((512,512,3),np.uint8)\n",
    "pts=np.array([[10,20],[40,50],[200,312],[150,415]])\n",
    "pts=pts.reshape((-1,1,2))\n",
    "cv2.polylines(image, [pts], True, (0,0,255), 3)\n",
    "cv2.imshow(\"image\",image)\n",
    "cv2.waitKey()\n",
    "cv2.destroyAllWindows()"
   ]
  },
  {
   "cell_type": "markdown",
   "metadata": {},
   "source": [
    "## Writing Text on image"
   ]
  },
  {
   "cell_type": "code",
   "execution_count": 2,
   "metadata": {},
   "outputs": [],
   "source": [
    "#image=np.zeros((512,512,3),np.uint8)\n",
    "cv2.putText(image,\"Raushan Kumar Raman\",(50,200),cv2.FONT_HERSHEY_SCRIPT_COMPLEX,1.2,(100,170,130),3)\n",
    "cv2.imshow(\"image\",image)\n",
    "cv2.waitKey()\n",
    "cv2.destroyAllWindows()"
   ]
  },
  {
   "cell_type": "markdown",
   "metadata": {},
   "source": [
    "## Translation "
   ]
  },
  {
   "cell_type": "code",
   "execution_count": 1,
   "metadata": {},
   "outputs": [],
   "source": [
    "import cv2\n",
    "import numpy as np\n",
    "image=cv2.imread(\"./images/input.jpg\")\n",
    "cv2.imshow(\"hello_world\",image)\n",
    "height,width=image.shape[:2]\n",
    "quarter_height,quarter_width=height/8,width/8\n",
    "T=np.float32([[1,0,quarter_height],[0,1,quarter_width]])\n",
    "image_translation=cv2.warpAffine(image,T,(width,height))\n",
    "cv2.imshow(\"image\",image_translation)\n",
    "cv2.waitKey()\n",
    "cv2.destroyAllWindows()"
   ]
  },
  {
   "cell_type": "markdown",
   "metadata": {},
   "source": [
    "## Rotation of Image"
   ]
  },
  {
   "cell_type": "code",
   "execution_count": 10,
   "metadata": {},
   "outputs": [],
   "source": [
    "image=cv2.imread(\"./images/input.jpg\")\n",
    "cv2.imshow(\"hello_world\",image)\n",
    "cv2.waitKey()\n",
    "cv2.destroyAllWindows()\n",
    "height,width=image.shape[:2]\n",
    "rotate_matrix=cv2.getRotationMatrix2D((height/2,width/2),45,0.6)\n",
    "image_rotation=cv2.warpAffine(image,rotate_matrix,(height,width))\n",
    "cv2.imshow(\"rotated_image\",image_rotation)\n",
    "cv2.waitKey()\n",
    "cv2.destroyAllWindows()"
   ]
  },
  {
   "cell_type": "markdown",
   "metadata": {},
   "source": [
    "## Resizing,Scaling and Interpolation"
   ]
  },
  {
   "cell_type": "code",
   "execution_count": 12,
   "metadata": {},
   "outputs": [],
   "source": [
    "image=cv2.imread(\"./images/input.jpg\")\n",
    "cv2.imshow(\"real image\",image)\n",
    "cv2.waitKey()\n",
    "cv2.destroyAllWindows()\n",
    "image_scale=cv2.resize(image,None,fx=0.75,fy=0.75)\n",
    "cv2.imshow(\"Resized_image\",image_scale)\n",
    "cv2.waitKey()\n",
    "cv2.destroyAllWindows()\n",
    "image_scale=cv2.resize(image,None,fx=0.75,fy=0.75,interpolation=cv2.INTER_NEAREST)\n",
    "cv2.imshow(\"scaling_image_using_INTER_NEAREST\",image_scale)\n",
    "cv2.waitKey()\n",
    "cv2.destroyAllWindows()\n",
    "image_scale=cv2.resize(image,(900,400),interpolation=cv2.INTER_AREA)\n",
    "cv2.imshow(\"scaling the image using INTER_AREA\",image_scale)\n",
    "cv2.waitKey()\n",
    "cv2.destroyAllWindows()\n",
    "image_scale=cv2.resize(image,None,fx=1.5,fy=1.5,interpolation=cv2.INTER_LANCZOS4)\n",
    "cv2.imshow(\"scaling the image using INTER_LANCZOS4\",image_scale)\n",
    "cv2.waitKey()\n",
    "cv2.destroyAllWindows()"
   ]
  },
  {
   "cell_type": "markdown",
   "metadata": {},
   "source": [
    "## Image Pyramid"
   ]
  },
  {
   "cell_type": "code",
   "execution_count": 3,
   "metadata": {},
   "outputs": [],
   "source": [
    "## It's a simply a different way of resisizing that allows us to easily and quickly scale images\n",
    "image=cv2.imread(\"./images/input.jpg\")\n",
    "cv2.imshow(\"image\",image)\n",
    "smaller=cv2.pyrDown(image)\n",
    "cv2.imshow(\"smaller_image\",smaller)\n",
    "larger=cv2.pyrUp(smaller)\n",
    "cv2.imshow(\"Larger_image\",larger)\n",
    "cv2.waitKey()\n",
    "cv2.destroyAllWindows()"
   ]
  },
  {
   "cell_type": "markdown",
   "metadata": {},
   "source": [
    "## cropping the image"
   ]
  },
  {
   "cell_type": "code",
   "execution_count": 4,
   "metadata": {},
   "outputs": [],
   "source": [
    "import cv2\n",
    "import numpy\n",
    "image=cv2.imread(\"./images/input.jpg\")\n",
    "cv2.imshow(\"image\",image)\n",
    "height,width=image.shape[:2]\n",
    "start_row,start_col=int(height*.25),int(width*.25)\n",
    "end_row,end_col=int(height*0.5),int(width*0.5)\n",
    "cropped_image=image[start_row:end_row,start_col:end_col]\n",
    "cv2.imshow(\"cropped image\",cropped_image)\n",
    "cv2.waitKey()\n",
    "cv2.destroyAllWindows()"
   ]
  },
  {
   "cell_type": "markdown",
   "metadata": {},
   "source": [
    "## Blurring of image"
   ]
  },
  {
   "cell_type": "code",
   "execution_count": 12,
   "metadata": {},
   "outputs": [],
   "source": [
    "import cv2\n",
    "import numpy as np\n",
    "image=cv2.imread(\"./images/input.jpg\")\n",
    "cv2.imshow(\"image\",image)\n",
    "cv2.waitKey()\n",
    "cv2.destroyAllWindows()\n",
    "kernel=np.ones((3,3),np.float32)/7\n",
    "blurred_image=cv2.filter2D(image,-1,kernel)\n",
    "cv2.imshow(\"blurred_image\",blurred_image)\n",
    "cv2.waitKey()\n",
    "cv2.destroyAllWindows()"
   ]
  },
  {
   "cell_type": "markdown",
   "metadata": {},
   "source": [
    "## Arithmetic Operation on image"
   ]
  },
  {
   "cell_type": "code",
   "execution_count": 18,
   "metadata": {},
   "outputs": [],
   "source": [
    "import cv2\n",
    "import numpy as np\n",
    "image=cv2.imread(\"./images/input.jpg\")\n",
    "cv2.imshow(\"image\",image)\n",
    "cv2.waitKey()\n",
    "cv2.destroyAllWindows()\n",
    "M=np.ones(image.shape,dtype=\"uint8\")*50\n",
    "added_image=cv2.add(image,M)\n",
    "cv2.imshow(\"added image\",added_image)\n",
    "cv2.waitKey()\n",
    "cv2.destroyAllWindows()\n",
    "substract_image=cv2.subtract(image,M)\n",
    "cv2.imshow(\"substracted_image\",substract_image)\n",
    "cv2.waitKey()\n",
    "cv2.destroyAllWindows()"
   ]
  },
  {
   "cell_type": "markdown",
   "metadata": {},
   "source": [
    "## Bitwise Operation and Masking"
   ]
  },
  {
   "cell_type": "code",
   "execution_count": 3,
   "metadata": {},
   "outputs": [],
   "source": [
    "import cv2\n",
    "import numpy as np\n",
    "image=cv2.imread(\"./images/input.jpg\")\n",
    "cv2.imshow(\"image\",image)\n",
    "cv2.waitKey()\n",
    "cv2.destroyAllWindows()\n",
    "height,width=image.shape[:2]\n",
    "square=np.ones(image.shape,np.uint8)\n",
    "rectangle=cv2.rectangle(square,(30,40),(300,400),(127,127,0),1)\n",
    "cv2.imshow(\"rectangle\",rectangle)\n",
    "cv2.waitKey()\n",
    "cv2.destroyAllWindows()\n",
    "cv2.destroyAllWindows()\n",
    "ellipse=cv2.ellipse(square,(150,150),(150,150),0,0,180,(127,127,0),-1)\n",
    "cv2.imshow(\"ellipse\",ellipse)\n",
    "cv2.waitKey()\n",
    "cv2.destroyAllWindows()"
   ]
  },
  {
   "cell_type": "code",
   "execution_count": 10,
   "metadata": {},
   "outputs": [],
   "source": [
    "import cv2\n",
    "import numpy as np\n",
    "square=np.zeros((300,300),np.uint8)\n",
    "rectangle=cv2.rectangle(square,(50,50),(250,250),255,-2)\n",
    "ellipse = np.zeros((300, 300), np.uint8)\n",
    "cv2.ellipse(ellipse, (150, 150), (150, 150), 30, 0, 180, 255, -1)\n",
    "And=cv2.bitwise_and(square,ellipse)\n",
    "cv2.imshow(\"AND_IMAGE\",And)\n",
    "cv2.waitKey()\n",
    "cv2.destroyAllWindows()"
   ]
  },
  {
   "cell_type": "code",
   "execution_count": 11,
   "metadata": {},
   "outputs": [],
   "source": [
    "or_image=cv2.bitwise_or(square,ellipse)\n",
    "cv2.imshow(\"or_image\",or_image)\n",
    "cv2.waitKey()\n",
    "cv2.destroyAllWindows()"
   ]
  },
  {
   "cell_type": "code",
   "execution_count": 12,
   "metadata": {},
   "outputs": [],
   "source": [
    "xor_image=cv2.bitwise_xor(square,ellipse)\n",
    "cv2.imshow(\"xor_image\",xor_image)\n",
    "cv2.waitKey()\n",
    "cv2.destroyAllWindows()"
   ]
  },
  {
   "cell_type": "code",
   "execution_count": 13,
   "metadata": {},
   "outputs": [],
   "source": [
    "not_image=cv2.bitwise_not(square,ellipse)\n",
    "cv2.imshow(\"not_image\",not_image)\n",
    "cv2.waitKey()\n",
    "cv2.destroyAllWindows()"
   ]
  },
  {
   "cell_type": "markdown",
   "metadata": {},
   "source": [
    "## convolutional and Blurring using other techniques"
   ]
  },
  {
   "cell_type": "code",
   "execution_count": 3,
   "metadata": {},
   "outputs": [],
   "source": [
    "import cv2\n",
    "import numpy as np\n",
    "image=cv2.imread(\"./images/elephant.jpg\")\n",
    "blur_image=cv2.blur(image,(3,3))\n",
    "cv2.imshow(\"blur_image\",blur_image)\n",
    "cv2.waitKey()\n",
    "cv2.destroyAllWindows()"
   ]
  },
  {
   "cell_type": "code",
   "execution_count": 7,
   "metadata": {},
   "outputs": [],
   "source": [
    "gaussian_blur=cv2.GaussianBlur(image,(7,7),-10)\n",
    "cv2.imshow(\"gaussian_blur\",gaussian_blur)\n",
    "cv2.waitKey()\n",
    "cv2.destroyAllWindows()"
   ]
  },
  {
   "cell_type": "code",
   "execution_count": 17,
   "metadata": {},
   "outputs": [],
   "source": [
    "median=cv2.medianBlur(image,5)\n",
    "cv2.imshow(\"median_blur\",median)\n",
    "cv2.waitKey()\n",
    "cv2.destroyAllWindows()"
   ]
  },
  {
   "cell_type": "markdown",
   "metadata": {},
   "source": [
    "## sharpening image"
   ]
  },
  {
   "cell_type": "code",
   "execution_count": 21,
   "metadata": {},
   "outputs": [],
   "source": [
    "image=cv2.imread(\"./images/elephant.jpg\")\n",
    "cv2.imshow(\"elephant_image\",image)\n",
    "cv2.waitKey()\n",
    "kernel_3X3=np.array([[-1,-1,-1],\n",
    "                    [-1,10,-1],\n",
    "                    [-1,-1,-1]])\n",
    "sharpening_image=cv2.filter2D(image,-1,kernel_3X3)\n",
    "cv2.imshow(\"sharpening_image\",sharpening_image)\n",
    "cv2.waitKey()\n",
    "cv2.destroyAllWindows()"
   ]
  },
  {
   "cell_type": "markdown",
   "metadata": {},
   "source": [
    "## Thresholding,Binarization & Adaptive Thresholding"
   ]
  },
  {
   "cell_type": "code",
   "execution_count": 1,
   "metadata": {},
   "outputs": [],
   "source": [
    "import cv2\n",
    "image=cv2.imread(\"./images/gradient.jpg\",0)\n",
    "cv2.imshow(\"orginal\",image)\n",
    "ret,thresh1=cv2.threshold(image,127,255,cv2.THRESH_BINARY)\n",
    "cv2.imshow(\"thresh1\",thresh1)\n",
    "ret,thresh2=cv2.threshold(image,127,255,cv2.THRESH_BINARY_INV)\n",
    "cv2.imshow(\"threshold_2\",thresh2)\n",
    "ret,thresh3=cv2.threshold(image,127,255,cv2.THRESH_TRUNC)\n",
    "cv2.imshow(\"threshold_3\",thresh3)\n",
    "ret,thresh4=cv2.threshold(image,127,255,cv2.THRESH_TOZERO)\n",
    "cv2.imshow(\"threshold_4\",thresh4)\n",
    "ret,thresh5=cv2.threshold(image,127,255,cv2.THRESH_TOZERO_INV)\n",
    "cv2.imshow(\"threshold_5\",thresh5)\n",
    "cv2.waitKey()\n",
    "cv2.destroyAllWindows()"
   ]
  },
  {
   "cell_type": "code",
   "execution_count": 8,
   "metadata": {},
   "outputs": [],
   "source": [
    "import cv2\n",
    "image=cv2.imread(\"./images/Origin_of_Species.jpg\",0)\n",
    "cv2.imshow(\"image\",image)\n",
    "ret,thresh=cv2.threshold(image,127,255,cv2.THRESH_BINARY)\n",
    "cv2.imshow(\"thresh_binary\",thresh)\n",
    "cv2.waitKey()\n",
    "gaussian_blur=cv2.GaussianBlur(image,(3,3),0)\n",
    "thresh=cv2.adaptiveThreshold(image,255,cv2.ADAPTIVE_THRESH_MEAN_C,cv2.THRESH_BINARY,3,5)\n",
    "cv2.imshow(\"Adaptive_thresh\",thresh)\n",
    "cv2.waitKey()\n",
    "_,th2=cv2.threshold(image,0,255,cv2.THRESH_BINARY+cv2.THRESH_OTSU)\n",
    "cv2.imshow(\"Adaptive_thresh\",th2)\n",
    "cv2.waitKey()\n",
    "blur=cv2.GaussianBlur(image,(5,5),0)\n",
    "_,th3=cv2.threshold(blur,0,255,cv2.THRESH_BINARY+cv2.THRESH_OTSU)\n",
    "cv2.imshow(\"Adaptive_thresh3\",th3)\n",
    "cv2.waitKey()\n",
    "cv2.destroyAllWindows()"
   ]
  },
  {
   "cell_type": "markdown",
   "metadata": {},
   "source": [
    "## Dilation,Erosion,Opening and Closing"
   ]
  },
  {
   "cell_type": "code",
   "execution_count": 7,
   "metadata": {},
   "outputs": [],
   "source": [
    "import cv2\n",
    "import numpy as np\n",
    "image=cv2.imread(\"./images/opencv_inv.png\",0)\n",
    "cv2.imshow(\"image\",image)\n",
    "cv2.waitKey()\n",
    "kernel=np.ones((5,5),np.uint8)\n",
    "erosion=cv2.erode(image,kernel,iterations=1)\n",
    "cv2.imshow(\"Erosion\",erosion)\n",
    "cv2.waitKey()\n",
    "dilated=cv2.dilate(image,kernel,iterations=1)\n",
    "cv2.imshow(\"dilated\",dilated)\n",
    "cv2.waitKey()\n",
    "opening=cv2.morphologyEx(image,cv2.MORPH_OPEN,kernel)\n",
    "cv2.imshow(\"Opening\",opening)\n",
    "cv2.waitKey()\n",
    "closing=cv2.morphologyEx(image,cv2.MORPH_CLOSE,kernel)\n",
    "cv2.imshow(\"Closing\",closing)\n",
    "cv2.waitKey()\n",
    "cv2.destroyAllWindows()"
   ]
  },
  {
   "cell_type": "markdown",
   "metadata": {},
   "source": [
    "## Edge Detection and Image Gradient"
   ]
  },
  {
   "cell_type": "code",
   "execution_count": 2,
   "metadata": {},
   "outputs": [],
   "source": [
    "import numpy as np\n",
    "import cv2\n",
    "image=cv2.imread(\"./images/input.jpg\",0)\n",
    "height,width=image.shape[:2]\n",
    "sobel_x=cv2.Sobel(image,cv2.CV_64F,0,1,ksize=5)\n",
    "sobel_y=cv2.Sobel(image,cv2.CV_64F,1,0,ksize=5)\n",
    "cv2.imshow(\"Original\",image)\n",
    "cv2.waitKey()\n",
    "cv2.imshow(\"sobel_X\",sobel_x)\n",
    "cv2.waitKey()\n",
    "cv2.imshow(\"sobel_Y\",sobel_y)\n",
    "cv2.waitKey()\n",
    "canny = cv2.Canny(image, 70, 120)\n",
    "cv2.imshow('Canny', canny)\n",
    "cv2.waitKey(0)\n",
    "cv2.destroyAllWindows()"
   ]
  },
  {
   "cell_type": "code",
   "execution_count": null,
   "metadata": {},
   "outputs": [],
   "source": []
  }
 ],
 "metadata": {
  "kernelspec": {
   "display_name": "Python 3",
   "language": "python",
   "name": "python3"
  },
  "language_info": {
   "codemirror_mode": {
    "name": "ipython",
    "version": 3
   },
   "file_extension": ".py",
   "mimetype": "text/x-python",
   "name": "python",
   "nbconvert_exporter": "python",
   "pygments_lexer": "ipython3",
   "version": "3.6.9"
  }
 },
 "nbformat": 4,
 "nbformat_minor": 2
}
